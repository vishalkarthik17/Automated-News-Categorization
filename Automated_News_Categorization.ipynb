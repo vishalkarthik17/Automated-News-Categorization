{
  "nbformat": 4,
  "nbformat_minor": 0,
  "metadata": {
    "colab": {
      "name": "Group_11_ML_News_Final.ipynb",
      "provenance": [],
      "collapsed_sections": [
        "NedCNv17bQyo",
        "Renp-2pSbZVR",
        "LGhG38canvpD",
        "-h30zPTmn1yr",
        "3PcXLaUQ0FeJ",
        "EpxG4JqgP7yj",
        "cnqVQ1nd0MQ0",
        "vSP97YxK_cVP",
        "cKPisGwoUVyT",
        "NcV1B5hVIBp-",
        "QgDFOg8fFHGi",
        "ntrMVkNqTQn9",
        "OQQBjjoRvbM_",
        "oip6GpELuM6F",
        "YDWOUcWuPpKd",
        "SXV2IrshQIIw",
        "tyi0wTNjQOT7",
        "ojtuAe2sn4oe",
        "VX-gTT3PvfXT",
        "NTl15MpJ2kP6",
        "ZR6PYSZn2mwj",
        "U_uoudbt2yFT",
        "1o42XNqE2o3L",
        "prsc9D6wxpaA",
        "eOTAJSM-5YEe"
      ]
    },
    "kernelspec": {
      "display_name": "Python 3",
      "name": "python3"
    },
    "language_info": {
      "name": "python"
    }
  },
  "cells": [
    {
      "cell_type": "markdown",
      "metadata": {
        "id": "NedCNv17bQyo"
      },
      "source": [
        "### **Import**\n"
      ]
    },
    {
      "cell_type": "code",
      "metadata": {
        "colab": {
          "base_uri": "https://localhost:8080/"
        },
        "id": "U-NrbHs0VDlN",
        "outputId": "207f69fd-9778-4ec8-b528-4712c36fcd51"
      },
      "source": [
        "from google.colab import drive\n",
        "drive.mount('/content/drive')"
      ],
      "execution_count": null,
      "outputs": [
        {
          "output_type": "stream",
          "name": "stdout",
          "text": [
            "Mounted at /content/drive\n"
          ]
        }
      ]
    },
    {
      "cell_type": "code",
      "metadata": {
        "colab": {
          "base_uri": "https://localhost:8080/"
        },
        "id": "Mm_Dq_L6Z7Ef",
        "outputId": "057a658f-06bc-45fe-d5f0-63c209aa0f59"
      },
      "source": [
        "import pandas as pd\n",
        "import numpy as np\n",
        "import seaborn as sns\n",
        "import matplotlib.pyplot as plt\n",
        "import nltk\n",
        "import copy\n",
        "nltk.download('stopwords')\n",
        "from sklearn.model_selection import train_test_split\n",
        "from sklearn.feature_extraction.text import CountVectorizer\n",
        "from sklearn.preprocessing import LabelEncoder\n",
        "from sklearn.feature_selection import VarianceThreshold\n",
        "from imblearn.over_sampling import SMOTE\n",
        "from sklearn.naive_bayes import MultinomialNB\n",
        "from sklearn.naive_bayes import GaussianNB\n",
        "from sklearn.linear_model import LogisticRegression\n",
        "from sklearn.tree import DecisionTreeClassifier\n",
        "from sklearn.neural_network import MLPClassifier\n",
        "from sklearn.ensemble import RandomForestClassifier\n",
        "from sklearn.metrics import confusion_matrix\n",
        "from sklearn.metrics import classification_report\n",
        "from sklearn.neighbors import KNeighborsClassifier"
      ],
      "execution_count": null,
      "outputs": [
        {
          "output_type": "stream",
          "name": "stdout",
          "text": [
            "[nltk_data] Downloading package stopwords to /root/nltk_data...\n",
            "[nltk_data]   Unzipping corpora/stopwords.zip.\n"
          ]
        }
      ]
    },
    {
      "cell_type": "code",
      "metadata": {
        "colab": {
          "base_uri": "https://localhost:8080/"
        },
        "id": "TAxhvlOKZ9r2",
        "outputId": "5fd65328-e39f-4abc-a38c-5fd33df7bb61"
      },
      "source": [
        "TrainBBC_df=pd.read_csv('/content/drive/My Drive/ML/BBC News Train.csv') #### used\n",
        "TestBBC_df=pd.read_csv('/content/drive/My Drive/ML/BBC News Test.csv') #### used\n",
        "dataset1_df=pd.read_json('/content/drive/My Drive/ML/News_Category_Dataset_v2.json', lines=True)\n",
        "\n",
        "print(TrainBBC_df.shape)\n",
        "print(TestBBC_df.shape)\n",
        "print(dataset1_df.shape)\n"
      ],
      "execution_count": null,
      "outputs": [
        {
          "output_type": "stream",
          "name": "stdout",
          "text": [
            "(1490, 3)\n",
            "(735, 2)\n",
            "(200853, 6)\n"
          ]
        }
      ]
    },
    {
      "cell_type": "code",
      "metadata": {
        "colab": {
          "base_uri": "https://localhost:8080/",
          "height": 202
        },
        "id": "usN-Pm862S6Z",
        "outputId": "ca58e684-4120-4d43-df03-7e5950394475"
      },
      "source": [
        "TrainBBC_df.head()"
      ],
      "execution_count": null,
      "outputs": [
        {
          "output_type": "execute_result",
          "data": {
            "text/html": [
              "<div>\n",
              "<style scoped>\n",
              "    .dataframe tbody tr th:only-of-type {\n",
              "        vertical-align: middle;\n",
              "    }\n",
              "\n",
              "    .dataframe tbody tr th {\n",
              "        vertical-align: top;\n",
              "    }\n",
              "\n",
              "    .dataframe thead th {\n",
              "        text-align: right;\n",
              "    }\n",
              "</style>\n",
              "<table border=\"1\" class=\"dataframe\">\n",
              "  <thead>\n",
              "    <tr style=\"text-align: right;\">\n",
              "      <th></th>\n",
              "      <th>ArticleId</th>\n",
              "      <th>Text</th>\n",
              "      <th>Category</th>\n",
              "    </tr>\n",
              "  </thead>\n",
              "  <tbody>\n",
              "    <tr>\n",
              "      <th>0</th>\n",
              "      <td>1833</td>\n",
              "      <td>worldcom ex-boss launches defence lawyers defe...</td>\n",
              "      <td>business</td>\n",
              "    </tr>\n",
              "    <tr>\n",
              "      <th>1</th>\n",
              "      <td>154</td>\n",
              "      <td>german business confidence slides german busin...</td>\n",
              "      <td>business</td>\n",
              "    </tr>\n",
              "    <tr>\n",
              "      <th>2</th>\n",
              "      <td>1101</td>\n",
              "      <td>bbc poll indicates economic gloom citizens in ...</td>\n",
              "      <td>business</td>\n",
              "    </tr>\n",
              "    <tr>\n",
              "      <th>3</th>\n",
              "      <td>1976</td>\n",
              "      <td>lifestyle  governs mobile choice  faster  bett...</td>\n",
              "      <td>tech</td>\n",
              "    </tr>\n",
              "    <tr>\n",
              "      <th>4</th>\n",
              "      <td>917</td>\n",
              "      <td>enron bosses in $168m payout eighteen former e...</td>\n",
              "      <td>business</td>\n",
              "    </tr>\n",
              "  </tbody>\n",
              "</table>\n",
              "</div>"
            ],
            "text/plain": [
              "   ArticleId                                               Text  Category\n",
              "0       1833  worldcom ex-boss launches defence lawyers defe...  business\n",
              "1        154  german business confidence slides german busin...  business\n",
              "2       1101  bbc poll indicates economic gloom citizens in ...  business\n",
              "3       1976  lifestyle  governs mobile choice  faster  bett...      tech\n",
              "4        917  enron bosses in $168m payout eighteen former e...  business"
            ]
          },
          "metadata": {},
          "execution_count": 4
        }
      ]
    },
    {
      "cell_type": "code",
      "metadata": {
        "colab": {
          "base_uri": "https://localhost:8080/",
          "height": 202
        },
        "id": "2X8bCNTm24Ai",
        "outputId": "afbff8ab-d7da-4dfc-ca16-f970441f660e"
      },
      "source": [
        "dataset1_df.head()"
      ],
      "execution_count": null,
      "outputs": [
        {
          "output_type": "execute_result",
          "data": {
            "text/html": [
              "<div>\n",
              "<style scoped>\n",
              "    .dataframe tbody tr th:only-of-type {\n",
              "        vertical-align: middle;\n",
              "    }\n",
              "\n",
              "    .dataframe tbody tr th {\n",
              "        vertical-align: top;\n",
              "    }\n",
              "\n",
              "    .dataframe thead th {\n",
              "        text-align: right;\n",
              "    }\n",
              "</style>\n",
              "<table border=\"1\" class=\"dataframe\">\n",
              "  <thead>\n",
              "    <tr style=\"text-align: right;\">\n",
              "      <th></th>\n",
              "      <th>category</th>\n",
              "      <th>headline</th>\n",
              "      <th>authors</th>\n",
              "      <th>link</th>\n",
              "      <th>short_description</th>\n",
              "      <th>date</th>\n",
              "    </tr>\n",
              "  </thead>\n",
              "  <tbody>\n",
              "    <tr>\n",
              "      <th>0</th>\n",
              "      <td>CRIME</td>\n",
              "      <td>There Were 2 Mass Shootings In Texas Last Week...</td>\n",
              "      <td>Melissa Jeltsen</td>\n",
              "      <td>https://www.huffingtonpost.com/entry/texas-ama...</td>\n",
              "      <td>She left her husband. He killed their children...</td>\n",
              "      <td>2018-05-26</td>\n",
              "    </tr>\n",
              "    <tr>\n",
              "      <th>1</th>\n",
              "      <td>ENTERTAINMENT</td>\n",
              "      <td>Will Smith Joins Diplo And Nicky Jam For The 2...</td>\n",
              "      <td>Andy McDonald</td>\n",
              "      <td>https://www.huffingtonpost.com/entry/will-smit...</td>\n",
              "      <td>Of course it has a song.</td>\n",
              "      <td>2018-05-26</td>\n",
              "    </tr>\n",
              "    <tr>\n",
              "      <th>2</th>\n",
              "      <td>ENTERTAINMENT</td>\n",
              "      <td>Hugh Grant Marries For The First Time At Age 57</td>\n",
              "      <td>Ron Dicker</td>\n",
              "      <td>https://www.huffingtonpost.com/entry/hugh-gran...</td>\n",
              "      <td>The actor and his longtime girlfriend Anna Ebe...</td>\n",
              "      <td>2018-05-26</td>\n",
              "    </tr>\n",
              "    <tr>\n",
              "      <th>3</th>\n",
              "      <td>ENTERTAINMENT</td>\n",
              "      <td>Jim Carrey Blasts 'Castrato' Adam Schiff And D...</td>\n",
              "      <td>Ron Dicker</td>\n",
              "      <td>https://www.huffingtonpost.com/entry/jim-carre...</td>\n",
              "      <td>The actor gives Dems an ass-kicking for not fi...</td>\n",
              "      <td>2018-05-26</td>\n",
              "    </tr>\n",
              "    <tr>\n",
              "      <th>4</th>\n",
              "      <td>ENTERTAINMENT</td>\n",
              "      <td>Julianna Margulies Uses Donald Trump Poop Bags...</td>\n",
              "      <td>Ron Dicker</td>\n",
              "      <td>https://www.huffingtonpost.com/entry/julianna-...</td>\n",
              "      <td>The \"Dietland\" actress said using the bags is ...</td>\n",
              "      <td>2018-05-26</td>\n",
              "    </tr>\n",
              "  </tbody>\n",
              "</table>\n",
              "</div>"
            ],
            "text/plain": [
              "        category  ...       date\n",
              "0          CRIME  ... 2018-05-26\n",
              "1  ENTERTAINMENT  ... 2018-05-26\n",
              "2  ENTERTAINMENT  ... 2018-05-26\n",
              "3  ENTERTAINMENT  ... 2018-05-26\n",
              "4  ENTERTAINMENT  ... 2018-05-26\n",
              "\n",
              "[5 rows x 6 columns]"
            ]
          },
          "metadata": {},
          "execution_count": 5
        }
      ]
    },
    {
      "cell_type": "markdown",
      "metadata": {
        "id": "Renp-2pSbZVR"
      },
      "source": [
        "### **Pre-Processing**"
      ]
    },
    {
      "cell_type": "markdown",
      "metadata": {
        "id": "LGhG38canvpD"
      },
      "source": [
        "##### Train_BBC Dataset Clean"
      ]
    },
    {
      "cell_type": "code",
      "metadata": {
        "colab": {
          "base_uri": "https://localhost:8080/"
        },
        "id": "rxK5qCg2ba-w",
        "outputId": "c8d67733-2c02-42e7-d955-28a8f20a9149"
      },
      "source": [
        "TrainBBC_df=TrainBBC_df.sort_values('ArticleId')\n",
        "TrainBBC_df.reset_index(inplace=True)\n",
        "TrainBBC_df.drop(columns=['index','ArticleId'],inplace=True)\n",
        "temp=TrainBBC_df.copy()\n",
        "for i in range(TrainBBC_df.shape[0] ):\n",
        "  if  temp.iloc[i,temp.columns.get_loc('Category')]==\"sport\":\n",
        "    temp.iloc[i,temp.columns.get_loc('Category')]=\"sports\"\n",
        "  \n",
        "TrainBBC_df=temp\n",
        "TrainBBC_df.head()\n"
      ],
      "execution_count": null,
      "outputs": [
        {
          "output_type": "execute_result",
          "data": {
            "text/html": [
              "<div>\n",
              "<style scoped>\n",
              "    .dataframe tbody tr th:only-of-type {\n",
              "        vertical-align: middle;\n",
              "    }\n",
              "\n",
              "    .dataframe tbody tr th {\n",
              "        vertical-align: top;\n",
              "    }\n",
              "\n",
              "    .dataframe thead th {\n",
              "        text-align: right;\n",
              "    }\n",
              "</style>\n",
              "<table border=\"1\" class=\"dataframe\">\n",
              "  <thead>\n",
              "    <tr style=\"text-align: right;\">\n",
              "      <th></th>\n",
              "      <th>Text</th>\n",
              "      <th>Category</th>\n",
              "    </tr>\n",
              "  </thead>\n",
              "  <tbody>\n",
              "    <tr>\n",
              "      <th>0</th>\n",
              "      <td>worldcom boss  left books alone  former worldc...</td>\n",
              "      <td>business</td>\n",
              "    </tr>\n",
              "    <tr>\n",
              "      <th>1</th>\n",
              "      <td>yeading face newcastle in fa cup premiership s...</td>\n",
              "      <td>sports</td>\n",
              "    </tr>\n",
              "    <tr>\n",
              "      <th>2</th>\n",
              "      <td>blair prepares to name poll date tony blair is...</td>\n",
              "      <td>politics</td>\n",
              "    </tr>\n",
              "    <tr>\n",
              "      <th>3</th>\n",
              "      <td>last star wars  not for children  the sixth an...</td>\n",
              "      <td>entertainment</td>\n",
              "    </tr>\n",
              "    <tr>\n",
              "      <th>4</th>\n",
              "      <td>berlin cheers for anti-nazi film a german movi...</td>\n",
              "      <td>entertainment</td>\n",
              "    </tr>\n",
              "  </tbody>\n",
              "</table>\n",
              "</div>"
            ],
            "text/plain": [
              "                                                Text       Category\n",
              "0  worldcom boss  left books alone  former worldc...       business\n",
              "1  yeading face newcastle in fa cup premiership s...         sports\n",
              "2  blair prepares to name poll date tony blair is...       politics\n",
              "3  last star wars  not for children  the sixth an...  entertainment\n",
              "4  berlin cheers for anti-nazi film a german movi...  entertainment"
            ]
          },
          "metadata": {},
          "execution_count": 6
        }
      ]
    },
    {
      "cell_type": "code",
      "metadata": {
        "colab": {
          "base_uri": "https://localhost:8080/"
        },
        "id": "UfenBPZ1k_Vd",
        "outputId": "04094d4c-5590-4aed-9a27-1b45e3d0b28c"
      },
      "source": [
        "print(TrainBBC_df['Category'].value_counts())"
      ],
      "execution_count": null,
      "outputs": [
        {
          "output_type": "stream",
          "name": "stdout",
          "text": [
            "sports           346\n",
            "business         336\n",
            "politics         274\n",
            "entertainment    273\n",
            "tech             261\n",
            "Name: Category, dtype: int64\n"
          ]
        }
      ]
    },
    {
      "cell_type": "code",
      "metadata": {
        "colab": {
          "base_uri": "https://localhost:8080/"
        },
        "id": "JGfaDbBXbm64",
        "outputId": "89c0e30d-fd98-4934-c39a-5e38713025e6"
      },
      "source": [
        "TrainBBC_df.isna().sum().sum()"
      ],
      "execution_count": null,
      "outputs": [
        {
          "output_type": "execute_result",
          "data": {
            "text/plain": [
              "0"
            ]
          },
          "metadata": {},
          "execution_count": 8
        }
      ]
    },
    {
      "cell_type": "code",
      "metadata": {
        "colab": {
          "base_uri": "https://localhost:8080/"
        },
        "id": "NUe6_aXPcKHh",
        "outputId": "885d0710-36d3-48d7-eb6f-b6e075910f55"
      },
      "source": [
        "TrainBBC_df['Category'].value_counts()"
      ],
      "execution_count": null,
      "outputs": [
        {
          "output_type": "execute_result",
          "data": {
            "text/plain": [
              "sports           346\n",
              "business         336\n",
              "politics         274\n",
              "entertainment    273\n",
              "tech             261\n",
              "Name: Category, dtype: int64"
            ]
          },
          "metadata": {},
          "execution_count": 9
        }
      ]
    },
    {
      "cell_type": "markdown",
      "metadata": {
        "id": "-h30zPTmn1yr"
      },
      "source": [
        "##### dataset1_df clean up"
      ]
    },
    {
      "cell_type": "code",
      "metadata": {
        "colab": {
          "base_uri": "https://localhost:8080/"
        },
        "id": "_gfaRPKfn6Qp",
        "outputId": "426c340a-df31-4a0d-ec7f-c2e307daf557"
      },
      "source": [
        "dataset1_df.drop(columns=[ 'authors', 'link','date'],inplace=True)\n",
        "dataset1_df.rename(\n",
        "    columns={\n",
        "        'category':'Category',\n",
        "        'headline': 'Text'\n",
        "    }, inplace=True\n",
        ")\n",
        "dataset1_df.columns"
      ],
      "execution_count": null,
      "outputs": [
        {
          "output_type": "execute_result",
          "data": {
            "text/plain": [
              "Index(['Category', 'Text', 'short_description'], dtype='object')"
            ]
          },
          "metadata": {},
          "execution_count": 10
        }
      ]
    },
    {
      "cell_type": "code",
      "metadata": {
        "id": "ZRt4efCArEK6"
      },
      "source": [
        "temp=dataset1_df.copy()\n",
        "for i in range(temp.shape[0]):\n",
        "  temp.iloc[i,temp.columns.get_loc('Category')] =  temp.iloc[i,temp.columns.get_loc('Category')].lower()\n",
        "  temp.iloc[i,temp.columns.get_loc('Text')]=temp.iloc[i,temp.columns.get_loc('Text')]+\" \"+temp.iloc[i,temp.columns.get_loc('short_description')]\n",
        "\n",
        "dataset1_df=temp\n"
      ],
      "execution_count": null,
      "outputs": []
    },
    {
      "cell_type": "code",
      "metadata": {
        "colab": {
          "base_uri": "https://localhost:8080/"
        },
        "id": "TtUhCptFwM9E",
        "outputId": "dd93b8d8-5dda-47ea-9c80-82be71f87ee8"
      },
      "source": [
        "dataset1_df.drop(columns=['short_description'],inplace=True)\n",
        "dataset1_df.head()\n",
        "print(dataset1_df.shape)"
      ],
      "execution_count": null,
      "outputs": [
        {
          "output_type": "stream",
          "name": "stdout",
          "text": [
            "(200853, 2)\n"
          ]
        }
      ]
    },
    {
      "cell_type": "markdown",
      "metadata": {
        "id": "3PcXLaUQ0FeJ"
      },
      "source": [
        "##### Appending 2 DataFrames "
      ]
    },
    {
      "cell_type": "code",
      "metadata": {
        "id": "Me_ZxHifm_8V"
      },
      "source": [
        "dataset_df=dataset1_df.append(TrainBBC_df)\n",
        "dataset_df.reset_index(inplace=True)"
      ],
      "execution_count": null,
      "outputs": []
    },
    {
      "cell_type": "markdown",
      "metadata": {
        "id": "EpxG4JqgP7yj"
      },
      "source": [
        "##### Dropping rows whose Text's word count is very less."
      ]
    },
    {
      "cell_type": "code",
      "metadata": {
        "colab": {
          "base_uri": "https://localhost:8080/"
        },
        "id": "JIHyC08aLmaF",
        "outputId": "9c51edb8-590a-4751-f919-51e4cb44ff3d"
      },
      "source": [
        "veryless=15\n",
        "cpy=dataset_df.copy()\n",
        "count=0\n",
        "word_count=[]\n",
        "for i in range(len(cpy)):\n",
        "  wc=len(cpy.iloc[i,cpy.columns.get_loc('Text')].split())\n",
        "  if wc<veryless:\n",
        "    count=count+1\n",
        "  word_count.append(wc)\n",
        "print(count,\" rows dropped\")\n",
        "cpy['word_count']=word_count\n",
        "\n",
        "cpy= cpy[cpy['word_count'] >= veryless]\n",
        "cpy.drop(columns=['word_count'],inplace=True)\n",
        "dataset_df=cpy\n",
        "\n"
      ],
      "execution_count": null,
      "outputs": [
        {
          "output_type": "stream",
          "name": "stdout",
          "text": [
            "26878  rows dropped\n"
          ]
        },
        {
          "output_type": "stream",
          "name": "stderr",
          "text": [
            "/usr/local/lib/python3.7/dist-packages/pandas/core/frame.py:4174: SettingWithCopyWarning: \n",
            "A value is trying to be set on a copy of a slice from a DataFrame\n",
            "\n",
            "See the caveats in the documentation: https://pandas.pydata.org/pandas-docs/stable/user_guide/indexing.html#returning-a-view-versus-a-copy\n",
            "  errors=errors,\n"
          ]
        }
      ]
    },
    {
      "cell_type": "code",
      "metadata": {
        "colab": {
          "base_uri": "https://localhost:8080/"
        },
        "id": "e9P4XhaGlVxh",
        "outputId": "a3591d01-ecc7-450b-cb3a-ee8f98e7063d"
      },
      "source": [
        "dataset_df[\"Category\"].replace(\"arts\", \"arts & culture\")"
      ],
      "execution_count": null,
      "outputs": [
        {
          "output_type": "execute_result",
          "data": {
            "text/plain": [
              "0                 crime\n",
              "1         entertainment\n",
              "2         entertainment\n",
              "3         entertainment\n",
              "4         entertainment\n",
              "              ...      \n",
              "202338           sports\n",
              "202339         business\n",
              "202340         business\n",
              "202341    entertainment\n",
              "202342         politics\n",
              "Name: Category, Length: 175465, dtype: object"
            ]
          },
          "metadata": {},
          "execution_count": 15
        }
      ]
    },
    {
      "cell_type": "code",
      "metadata": {
        "colab": {
          "base_uri": "https://localhost:8080/"
        },
        "id": "_KhEw7TEmlzs",
        "outputId": "b91a5971-db7a-4f70-e35c-271c841ea5a7"
      },
      "source": [
        "dataset_df['Category'].value_counts()"
      ],
      "execution_count": null,
      "outputs": [
        {
          "output_type": "execute_result",
          "data": {
            "text/plain": [
              "politics          28673\n",
              "wellness          17815\n",
              "entertainment     12522\n",
              "style & beauty     9491\n",
              "travel             9286\n",
              "parenting          8653\n",
              "food & drink       5472\n",
              "queer voices       5461\n",
              "business           5339\n",
              "healthy living     4979\n",
              "sports             4195\n",
              "home & living      4019\n",
              "black voices       4005\n",
              "comedy             3938\n",
              "weddings           3638\n",
              "the worldpost      3567\n",
              "divorce            3412\n",
              "parents            3275\n",
              "impact             3071\n",
              "women              2950\n",
              "crime              2627\n",
              "media              2211\n",
              "tech               2169\n",
              "world news         2128\n",
              "green              2024\n",
              "weird news         1831\n",
              "religion           1827\n",
              "science            1714\n",
              "money              1704\n",
              "taste              1646\n",
              "environment        1320\n",
              "worldpost          1266\n",
              "arts & culture     1260\n",
              "style              1242\n",
              "fifty              1046\n",
              "good news           999\n",
              "culture & arts      996\n",
              "latino voices       989\n",
              "college             906\n",
              "education           901\n",
              "arts                898\n",
              "Name: Category, dtype: int64"
            ]
          },
          "metadata": {},
          "execution_count": 16
        }
      ]
    },
    {
      "cell_type": "code",
      "metadata": {
        "id": "ORhBtX6svolu"
      },
      "source": [
        "dataset_df.Category=dataset_df.Category.replace({\"arts\": \"arts & culture\",\n",
        "                                                  \"culture & arts\":\"arts & culture\",\n",
        "                                                 \"the worldpost\" :\"world news\",\n",
        "                                                 \"worldpost\":\"world news\",\n",
        "                                                 \"parenting\":\"parents\",\n",
        "                                                 \"style\":\"style & beauty\",\n",
        "                                                 \"marriage\":\"marriage life\",\n",
        "                                                 \"divorce\":\"marriage life\",\n",
        "                                                 \"weddings\":\"marriage life\",\n",
        "                                                 \"green\":\"environment\",\n",
        "                                                 \"college\":\"education\",\n",
        "                                                 \"taste\":\"food & drink\",\n",
        "                                                 \"wellness\":\"healthy living\",\n",
        "                                                \"black voices\":\"minority voices\",\n",
        "                                                 \"queer voices\":\"minority voices\",\n",
        "                                                 \"latino voices\":\"minority voices\"\n",
        "                                                 })"
      ],
      "execution_count": null,
      "outputs": []
    },
    {
      "cell_type": "code",
      "metadata": {
        "id": "Ej8tLquIxaAj"
      },
      "source": [
        "indexname=dataset_df[dataset_df['Category']=='good news'].index\n",
        "dataset_df.drop(indexname, inplace=True)\n",
        "indexname=dataset_df[dataset_df['Category']=='impact'].index\n",
        "dataset_df.drop(indexname, inplace=True)\n",
        "indexname=dataset_df[dataset_df['Category']=='fifty'].index\n",
        "dataset_df.drop(indexname, inplace=True)"
      ],
      "execution_count": null,
      "outputs": []
    },
    {
      "cell_type": "code",
      "metadata": {
        "colab": {
          "base_uri": "https://localhost:8080/"
        },
        "id": "-E2ovvOzn4kd",
        "outputId": "d31b9408-e65b-4eae-d5ae-0a20bcd3f99f"
      },
      "source": [
        "dataset_df['Category'].value_counts()"
      ],
      "execution_count": null,
      "outputs": [
        {
          "output_type": "execute_result",
          "data": {
            "text/plain": [
              "politics           28673\n",
              "healthy living     22794\n",
              "entertainment      12522\n",
              "parents            11928\n",
              "style & beauty     10733\n",
              "minority voices    10455\n",
              "travel              9286\n",
              "food & drink        7118\n",
              "marriage life       7050\n",
              "world news          6961\n",
              "business            5339\n",
              "sports              4195\n",
              "home & living       4019\n",
              "comedy              3938\n",
              "environment         3344\n",
              "arts & culture      3154\n",
              "women               2950\n",
              "crime               2627\n",
              "media               2211\n",
              "tech                2169\n",
              "weird news          1831\n",
              "religion            1827\n",
              "education           1807\n",
              "science             1714\n",
              "money               1704\n",
              "Name: Category, dtype: int64"
            ]
          },
          "metadata": {},
          "execution_count": 19
        }
      ]
    },
    {
      "cell_type": "code",
      "metadata": {
        "colab": {
          "base_uri": "https://localhost:8080/"
        },
        "id": "UlOOd8chzcsS",
        "outputId": "d788c19b-a68f-433a-994a-f614bc64da1d"
      },
      "source": [
        "training_data=dataset_df.sample(frac=0.8,random_state=69)\n",
        "testing_data=dataset_df.drop(training_data.index)\n",
        "training_data.reset_index(inplace=True)\n",
        "testing_data.reset_index(inplace=True)\n",
        "print(training_data.shape)\n",
        "print(testing_data.shape)\n",
        "training_data.drop(columns=['level_0','index'],inplace=True)\n",
        "testing_data.drop(columns=['level_0','index'],inplace=True)"
      ],
      "execution_count": null,
      "outputs": [
        {
          "output_type": "stream",
          "name": "stdout",
          "text": [
            "(136279, 4)\n",
            "(34070, 4)\n"
          ]
        }
      ]
    },
    {
      "cell_type": "markdown",
      "metadata": {
        "id": "cnqVQ1nd0MQ0"
      },
      "source": [
        "### **Pre-Processing Synopsis**"
      ]
    },
    {
      "cell_type": "markdown",
      "metadata": {
        "id": "OtndLEx30P7R"
      },
      "source": [
        "\n",
        "testing_data : Contains 20% of around 20,000 news articles to Test the model\n",
        "\n",
        "\n",
        "\n",
        "*   training_data : Contains 80% of around 20,000 news articles to train the model\n",
        "*   testing_data : Contains 20% of around 20,000 news articles to Test the model\n",
        "\n",
        "\n",
        "\n"
      ]
    },
    {
      "cell_type": "code",
      "metadata": {
        "colab": {
          "base_uri": "https://localhost:8080/"
        },
        "id": "qwVCXOrA0PUh",
        "outputId": "e53b5736-b98f-49cd-da8d-92252d79eeb9"
      },
      "source": [
        "display(training_data.head())\n",
        "print(training_data.shape)\n",
        "display(testing_data.head())\n",
        "print(testing_data.shape)"
      ],
      "execution_count": null,
      "outputs": [
        {
          "output_type": "display_data",
          "data": {
            "text/html": [
              "<div>\n",
              "<style scoped>\n",
              "    .dataframe tbody tr th:only-of-type {\n",
              "        vertical-align: middle;\n",
              "    }\n",
              "\n",
              "    .dataframe tbody tr th {\n",
              "        vertical-align: top;\n",
              "    }\n",
              "\n",
              "    .dataframe thead th {\n",
              "        text-align: right;\n",
              "    }\n",
              "</style>\n",
              "<table border=\"1\" class=\"dataframe\">\n",
              "  <thead>\n",
              "    <tr style=\"text-align: right;\">\n",
              "      <th></th>\n",
              "      <th>Category</th>\n",
              "      <th>Text</th>\n",
              "    </tr>\n",
              "  </thead>\n",
              "  <tbody>\n",
              "    <tr>\n",
              "      <th>0</th>\n",
              "      <td>world news</td>\n",
              "      <td>Israel's Bedouin Schools Thrive in Negev Deser...</td>\n",
              "    </tr>\n",
              "    <tr>\n",
              "      <th>1</th>\n",
              "      <td>politics</td>\n",
              "      <td>HUFFPOLLSTER: What You Need To Know About Brex...</td>\n",
              "    </tr>\n",
              "    <tr>\n",
              "      <th>2</th>\n",
              "      <td>world news</td>\n",
              "      <td>Italy Earthquake Death Toll Climbs To Nearly 2...</td>\n",
              "    </tr>\n",
              "    <tr>\n",
              "      <th>3</th>\n",
              "      <td>media</td>\n",
              "      <td>Nate Silver Slams Vox For Aggregating Bill Cos...</td>\n",
              "    </tr>\n",
              "    <tr>\n",
              "      <th>4</th>\n",
              "      <td>healthy living</td>\n",
              "      <td>Should You Check Your E-Mail? Let This Chart D...</td>\n",
              "    </tr>\n",
              "  </tbody>\n",
              "</table>\n",
              "</div>"
            ],
            "text/plain": [
              "         Category                                               Text\n",
              "0      world news  Israel's Bedouin Schools Thrive in Negev Deser...\n",
              "1        politics  HUFFPOLLSTER: What You Need To Know About Brex...\n",
              "2      world news  Italy Earthquake Death Toll Climbs To Nearly 2...\n",
              "3           media  Nate Silver Slams Vox For Aggregating Bill Cos...\n",
              "4  healthy living  Should You Check Your E-Mail? Let This Chart D..."
            ]
          },
          "metadata": {}
        },
        {
          "output_type": "stream",
          "name": "stdout",
          "text": [
            "(136279, 2)\n"
          ]
        },
        {
          "output_type": "display_data",
          "data": {
            "text/html": [
              "<div>\n",
              "<style scoped>\n",
              "    .dataframe tbody tr th:only-of-type {\n",
              "        vertical-align: middle;\n",
              "    }\n",
              "\n",
              "    .dataframe tbody tr th {\n",
              "        vertical-align: top;\n",
              "    }\n",
              "\n",
              "    .dataframe thead th {\n",
              "        text-align: right;\n",
              "    }\n",
              "</style>\n",
              "<table border=\"1\" class=\"dataframe\">\n",
              "  <thead>\n",
              "    <tr style=\"text-align: right;\">\n",
              "      <th></th>\n",
              "      <th>Category</th>\n",
              "      <th>Text</th>\n",
              "    </tr>\n",
              "  </thead>\n",
              "  <tbody>\n",
              "    <tr>\n",
              "      <th>0</th>\n",
              "      <td>crime</td>\n",
              "      <td>There Were 2 Mass Shootings In Texas Last Week...</td>\n",
              "    </tr>\n",
              "    <tr>\n",
              "      <th>1</th>\n",
              "      <td>entertainment</td>\n",
              "      <td>Jim Carrey Blasts 'Castrato' Adam Schiff And D...</td>\n",
              "    </tr>\n",
              "    <tr>\n",
              "      <th>2</th>\n",
              "      <td>entertainment</td>\n",
              "      <td>Julianna Margulies Uses Donald Trump Poop Bags...</td>\n",
              "    </tr>\n",
              "    <tr>\n",
              "      <th>3</th>\n",
              "      <td>entertainment</td>\n",
              "      <td>Justin Timberlake Visits Texas School Shooting...</td>\n",
              "    </tr>\n",
              "    <tr>\n",
              "      <th>4</th>\n",
              "      <td>world news</td>\n",
              "      <td>South Korean President Meets North Korea's Kim...</td>\n",
              "    </tr>\n",
              "  </tbody>\n",
              "</table>\n",
              "</div>"
            ],
            "text/plain": [
              "        Category                                               Text\n",
              "0          crime  There Were 2 Mass Shootings In Texas Last Week...\n",
              "1  entertainment  Jim Carrey Blasts 'Castrato' Adam Schiff And D...\n",
              "2  entertainment  Julianna Margulies Uses Donald Trump Poop Bags...\n",
              "3  entertainment  Justin Timberlake Visits Texas School Shooting...\n",
              "4     world news  South Korean President Meets North Korea's Kim..."
            ]
          },
          "metadata": {}
        },
        {
          "output_type": "stream",
          "name": "stdout",
          "text": [
            "(34070, 2)\n"
          ]
        }
      ]
    },
    {
      "cell_type": "markdown",
      "metadata": {
        "id": "vSP97YxK_cVP"
      },
      "source": [
        "### **Exploratory Data Analysis**"
      ]
    },
    {
      "cell_type": "markdown",
      "metadata": {
        "id": "cKPisGwoUVyT"
      },
      "source": [
        "##### Total no of Categories"
      ]
    },
    {
      "cell_type": "code",
      "metadata": {
        "colab": {
          "base_uri": "https://localhost:8080/"
        },
        "id": "4qFiiZ7RUa4L",
        "outputId": "0b81429f-5bbe-4f55-e7da-c98050f035e2"
      },
      "source": [
        "print(\"All Categories We have now :\")\n",
        "print(dataset_df['Category'].value_counts())\n",
        "print()\n",
        "print(\"Number of Categories We have Now is : \")\n",
        "print(len(dataset_df['Category'].value_counts()))\n"
      ],
      "execution_count": null,
      "outputs": [
        {
          "output_type": "stream",
          "name": "stdout",
          "text": [
            "All Categories We have now :\n",
            "politics           28673\n",
            "healthy living     22794\n",
            "entertainment      12522\n",
            "parents            11928\n",
            "style & beauty     10733\n",
            "minority voices    10455\n",
            "travel              9286\n",
            "food & drink        7118\n",
            "marriage life       7050\n",
            "world news          6961\n",
            "business            5339\n",
            "sports              4195\n",
            "home & living       4019\n",
            "comedy              3938\n",
            "environment         3344\n",
            "arts & culture      3154\n",
            "women               2950\n",
            "crime               2627\n",
            "media               2211\n",
            "tech                2169\n",
            "weird news          1831\n",
            "religion            1827\n",
            "education           1807\n",
            "science             1714\n",
            "money               1704\n",
            "Name: Category, dtype: int64\n",
            "\n",
            "Number of Categories We have Now is : \n",
            "25\n"
          ]
        }
      ]
    },
    {
      "cell_type": "markdown",
      "metadata": {
        "id": "GwY4Ja9HUtAN"
      },
      "source": [
        "##### Mean,std, Min , Max"
      ]
    },
    {
      "cell_type": "code",
      "metadata": {
        "colab": {
          "base_uri": "https://localhost:8080/"
        },
        "id": "_vcyLNDpEPLu",
        "outputId": "1e7573f8-c275-48f2-c341-0916c33445db"
      },
      "source": [
        "temp=training_data['Category'].value_counts().to_frame().reset_index()\n",
        "print(\"Mean articles per category : \", temp['Category'].mean())\n",
        "print(\"Standard Deviation : \",temp['Category'].std())\n",
        "print(\"____________________________________________________\")\n",
        "print(\"Category with Least Number of Articles : \")\n",
        "print(\"Category : \"+ temp.iloc[temp['Category'].idxmin()]['index'])\n",
        "print(\"Count : \", temp.iloc[temp['Category'].idxmin()]['Category'])\n",
        "print(\"____________________________________________________\")\n",
        "print(\"Category with Most Number of Articles : \")\n",
        "print(\"Category : \"+ temp.iloc[temp['Category'].idxmax()]['index'])\n",
        "print(\"Count : \", temp.iloc[temp['Category'].idxmax()]['Category'])\n"
      ],
      "execution_count": null,
      "outputs": [
        {
          "output_type": "stream",
          "name": "stdout",
          "text": [
            "Mean articles per category :  5451.16\n",
            "Standard Deviation :  5377.20331337149\n",
            "____________________________________________________\n",
            "Category with Least Number of Articles : \n",
            "Category : money\n",
            "Count :  1360\n",
            "____________________________________________________\n",
            "Category with Most Number of Articles : \n",
            "Category : politics\n",
            "Count :  22998\n"
          ]
        }
      ]
    },
    {
      "cell_type": "markdown",
      "metadata": {
        "id": "mYl3OEH-UyHN"
      },
      "source": [
        "##### Barplot - Number of articles in each category"
      ]
    },
    {
      "cell_type": "code",
      "metadata": {
        "colab": {
          "base_uri": "https://localhost:8080/"
        },
        "id": "r5F0aU5nEs0t",
        "outputId": "909a477d-a1d2-4f3b-955b-cc5f971bddc7"
      },
      "source": [
        "fig, ax = plt.subplots()\n",
        "fig.set_size_inches(14, 11)\n",
        "ax=sns.barplot(data=temp,y='index',x='Category',ax=ax)\n",
        "ax.set_title('Category Count')\n",
        "ax.set_xlabel('Count of categories')\n",
        "ax.set_ylabel('Categories')"
      ],
      "execution_count": null,
      "outputs": [
        {
          "output_type": "execute_result",
          "data": {
            "text/plain": [
              "Text(0, 0.5, 'Categories')"
            ]
          },
          "metadata": {},
          "execution_count": 25
        },
        {
          "output_type": "display_data",
          "data": {
            "image/png": "[encoded data removed]",
            "text/plain": [
              "<Figure size 1008x792 with 1 Axes>"
            ]
          },
          "metadata": {
            "needs_background": "light"
          }
        }
      ]
    },
    {
      "cell_type": "markdown",
      "metadata": {
        "id": "sW_n4tUwVhNU"
      },
      "source": [
        "##### Mean, Std, Min, Max - Word count per Article"
      ]
    },
    {
      "cell_type": "code",
      "metadata": {
        "colab": {
          "base_uri": "https://localhost:8080/"
        },
        "id": "O2tTfaxuGZVN",
        "outputId": "ab6ce5ef-a2f9-460b-e482-c0a3570caa17"
      },
      "source": [
        "train_copy=training_data.copy()\n",
        "count=0\n",
        "word_count=[]\n",
        "for i in range(len(train_copy)):\n",
        "  wc=len(train_copy.iloc[i,train_copy.columns.get_loc('Text')].split())\n",
        "  if wc<5:\n",
        "    count=count+1\n",
        "  word_count.append(wc)\n",
        "train_copy['word_count']=word_count\n",
        "print(\"Average Words per article : \", train_copy['word_count'].mean())\n",
        "print(\"Std of Words per article : \", train_copy['word_count'].std())\n",
        "print(\"Articles that have Maximum words : \", train_copy['word_count'].max())\n",
        "print(\"Articles that have Minimum words : \", train_copy['word_count'].min())"
      ],
      "execution_count": null,
      "outputs": [
        {
          "output_type": "stream",
          "name": "stdout",
          "text": [
            "Average Words per article :  35.12693078170518\n",
            "Std of Words per article :  40.314056473899264\n",
            "Articles that have Maximum words :  3345\n",
            "Articles that have Minimum words :  15\n"
          ]
        }
      ]
    },
    {
      "cell_type": "markdown",
      "metadata": {
        "id": "ErOI2KBbYV58"
      },
      "source": [
        "##### Striplot,Barplot- Mean word count for each Category"
      ]
    },
    {
      "cell_type": "code",
      "metadata": {
        "colab": {
          "base_uri": "https://localhost:8080/"
        },
        "id": "8ClWMvPNW53A",
        "outputId": "4280f07f-2e22-4ca2-ae27-b54f705c25b3"
      },
      "source": [
        "mean_cat=train_copy.groupby('Category').mean().reset_index()\n",
        "fig, ax = plt.subplots()\n",
        "fig.set_size_inches(14, 11)\n",
        "ax=sns.barplot(data=mean_cat,x='word_count',y='Category')\n",
        "ax.set_title('Mean Word count for Each Category ')"
      ],
      "execution_count": null,
      "outputs": [
        {
          "output_type": "execute_result",
          "data": {
            "text/plain": [
              "Text(0.5, 1.0, 'Mean Word count for Each Category ')"
            ]
          },
          "metadata": {},
          "execution_count": 27
        },
        {
          "output_type": "display_data",
          "data": {
            "image/png": "[encoded data removed]",
            "text/plain": [
              "<Figure size 1008x792 with 1 Axes>"
            ]
          },
          "metadata": {
            "needs_background": "light"
          }
        }
      ]
    },
    {
      "cell_type": "code",
      "metadata": {
        "colab": {
          "base_uri": "https://localhost:8080/"
        },
        "id": "FaGiCPh8XBk9",
        "outputId": "37639813-1346-4ada-f1e6-dd2c86ea4e82"
      },
      "source": [
        "fig, ax = plt.subplots()\n",
        "fig.set_size_inches(15,20)\n",
        "plt.xlim((0,200))\n",
        "ax=sns.stripplot(data=train_copy,x='word_count',y='Category')\n",
        "ax.set_title('Mean Word count for Each Category ')"
      ],
      "execution_count": null,
      "outputs": [
        {
          "output_type": "execute_result",
          "data": {
            "text/plain": [
              "Text(0.5, 1.0, 'Mean Word count for Each Category ')"
            ]
          },
          "metadata": {},
          "execution_count": 28
        },
        {
          "output_type": "display_data",
          "data": {
            "image/png": "[encoded data removed]",
            "text/plain": [
              "<Figure size 1080x1440 with 1 Axes>"
            ]
          },
          "metadata": {
            "needs_background": "light"
          }
        }
      ]
    },
    {
      "cell_type": "markdown",
      "metadata": {
        "id": "W2mQP7-6VG3W"
      },
      "source": [
        "##### Stripplot, Boxplot, Violinplot - how is number of articles on a category distributed"
      ]
    },
    {
      "cell_type": "code",
      "metadata": {
        "colab": {
          "base_uri": "https://localhost:8080/"
        },
        "id": "1LwDN1s0FcL7",
        "outputId": "b78f24b2-68b8-41be-cf61-27beb50a8754"
      },
      "source": [
        "plt.rcParams[\"figure.figsize\"] = [17, 5]\n",
        "plt.rcParams[\"figure.autolayout\"] = True\n",
        "fig, axes = plt.subplots(1, 3)\n",
        "fig.suptitle(\"Category Counts\", fontsize=16,y=1.05)\n",
        "axes[0].set_title(\"Stripplot\")\n",
        "axes[1].set_title(\"Boxplot\")\n",
        "axes[2].set_title(\"Violinplot\")\n",
        "\n",
        "sns.stripplot(x=temp['Category'], palette=\"Set2\", size=20, marker=\"D\",edgecolor=\"gray\", alpha=.25,ax=axes[0])\n",
        "sns.boxplot(x=temp['Category'],ax=axes[1],color='red')\n",
        "sns.violinplot(x=temp['Category'],ax=axes[2],color='navy')"
      ],
      "execution_count": null,
      "outputs": [
        {
          "output_type": "execute_result",
          "data": {
            "text/plain": [
              "<matplotlib.axes._subplots.AxesSubplot at 0x7f3eab5e9450>"
            ]
          },
          "metadata": {},
          "execution_count": 29
        },
        {
          "output_type": "display_data",
          "data": {
            "image/png": "[encoded data removed]",
            "text/plain": [
              "<Figure size 1224x360 with 3 Axes>"
            ]
          },
          "metadata": {
            "needs_background": "light"
          }
        }
      ]
    },
    {
      "cell_type": "markdown",
      "metadata": {
        "id": "NcV1B5hVIBp-"
      },
      "source": [
        "## **Vectorization**"
      ]
    },
    {
      "cell_type": "code",
      "metadata": {
        "colab": {
          "base_uri": "https://localhost:8080/"
        },
        "id": "10TISv5hIEI0",
        "outputId": "50ccdae9-53dc-4903-dceb-c95289a2723f"
      },
      "source": [
        "category_train=training_data['Category'].tolist()\n",
        "category_test=testing_data['Category'].tolist()\n",
        "title_train=training_data['Text'].tolist()\n",
        "title_test=testing_data['Text'].tolist()\n",
        "print(len(category_train))\n",
        "print(len(category_test))"
      ],
      "execution_count": null,
      "outputs": [
        {
          "output_type": "stream",
          "name": "stdout",
          "text": [
            "136279\n",
            "34070\n"
          ]
        }
      ]
    },
    {
      "cell_type": "code",
      "metadata": {
        "colab": {
          "base_uri": "https://localhost:8080/"
        },
        "id": "dEjgIRW5J1px",
        "outputId": "4f513272-38d8-443e-b6d7-bd4ac8a95401"
      },
      "source": [
        "type(title_train[0])"
      ],
      "execution_count": null,
      "outputs": [
        {
          "output_type": "execute_result",
          "data": {
            "text/plain": [
              "str"
            ]
          },
          "metadata": {},
          "execution_count": 23
        }
      ]
    },
    {
      "cell_type": "code",
      "metadata": {
        "colab": {
          "base_uri": "https://localhost:8080/"
        },
        "id": "YH4NTK16JJKO",
        "outputId": "b4031bfc-e043-4657-b0bb-8cc50d122555"
      },
      "source": [
        "tokenizer = nltk.tokenize.RegexpTokenizer(r\"\\w+\")\n",
        "stop_words = nltk.corpus.stopwords.words(\"english\")\n",
        "vectorizer = CountVectorizer(tokenizer=tokenizer.tokenize, stop_words=stop_words)\n",
        "\n",
        "vectorizer.fit(iter(title_train))\n",
        "Xtr = vectorizer.transform(iter(title_train))\n",
        "Xte = vectorizer.transform(iter(title_test))\n",
        "\n",
        "encoder = LabelEncoder()\n",
        "encoder.fit(category_train)\n",
        "Ytr = encoder.transform(category_train)\n",
        "Yte = encoder.transform(category_test)"
      ],
      "execution_count": null,
      "outputs": [
        {
          "output_type": "stream",
          "name": "stderr",
          "text": [
            "/usr/local/lib/python3.7/dist-packages/sklearn/feature_extraction/text.py:517: UserWarning: The parameter 'token_pattern' will not be used since 'tokenizer' is not None'\n",
            "  \"The parameter 'token_pattern' will not be used\"\n"
          ]
        }
      ]
    },
    {
      "cell_type": "markdown",
      "metadata": {
        "id": "QgDFOg8fFHGi"
      },
      "source": [
        "##**Feature Reduction**"
      ]
    },
    {
      "cell_type": "code",
      "metadata": {
        "colab": {
          "base_uri": "https://localhost:8080/"
        },
        "id": "Y7ZD_OTOFgHY",
        "outputId": "d2f87451-9051-4a17-8d93-4712aaa71f58"
      },
      "source": [
        "print(\"Number of features before reduction : \", Xtr.shape[1])\n",
        "selection = VarianceThreshold(threshold=0.00005)\n",
        "Xtr_whole = copy.deepcopy(Xtr)\n",
        "Ytr_whole = copy.deepcopy(Ytr)\n",
        "selection.fit(Xtr)\n",
        "XtrTemp = selection.transform(Xtr)\n",
        "XteTemp = selection.transform(Xte)\n",
        "print(\"Number of features after reduction : \", XtrTemp.shape[1])"
      ],
      "execution_count": null,
      "outputs": [
        {
          "name": "stdout",
          "output_type": "stream",
          "text": [
            "Number of features before reduction :  80828\n",
            "Number of features after reduction :  27823\n"
          ]
        }
      ]
    },
    {
      "cell_type": "markdown",
      "metadata": {
        "id": "ntrMVkNqTQn9"
      },
      "source": [
        "### Vectorizer for Feature Reduced Data"
      ]
    },
    {
      "cell_type": "code",
      "metadata": {
        "id": "4UADlZAlHNvM"
      },
      "source": [
        "dummy=copy.deepcopy(Xtr)\n",
        "aa=vectorizer.inverse_transform(dummy)"
      ],
      "execution_count": null,
      "outputs": []
    },
    {
      "cell_type": "code",
      "metadata": {
        "colab": {
          "base_uri": "https://localhost:8080/"
        },
        "id": "X_KRasIbJnWO",
        "outputId": "29e32eba-76d2-4a14-96f9-d7f8a00dbfac"
      },
      "source": [
        "listpass=[]\n",
        "for i  in range(len(aa)):\n",
        "  pass1=str(' '.join(aa[i]))\n",
        "  listpass.append(pass1)\n",
        "print(type(listpass[0]))"
      ],
      "execution_count": null,
      "outputs": [
        {
          "name": "stdout",
          "output_type": "stream",
          "text": [
            "<class 'str'>\n"
          ]
        }
      ]
    },
    {
      "cell_type": "code",
      "metadata": {
        "colab": {
          "base_uri": "https://localhost:8080/"
        },
        "id": "9MxMoud9IjJF",
        "outputId": "ae6b2318-ba86-48ec-d2fc-d962c02cbed2"
      },
      "source": [
        "vectorizer1 = CountVectorizer(tokenizer=tokenizer.tokenize, stop_words=stop_words)\n",
        "vectorizer1.fit(iter(listpass))\n",
        "bb = vectorizer1.transform(iter(listpass))"
      ],
      "execution_count": null,
      "outputs": [
        {
          "name": "stderr",
          "output_type": "stream",
          "text": [
            "/usr/local/lib/python3.7/dist-packages/sklearn/feature_extraction/text.py:517: UserWarning: The parameter 'token_pattern' will not be used since 'tokenizer' is not None'\n",
            "  \"The parameter 'token_pattern' will not be used\"\n"
          ]
        }
      ]
    },
    {
      "cell_type": "code",
      "metadata": {
        "colab": {
          "base_uri": "https://localhost:8080/"
        },
        "id": "X9iEOsGPLaHw",
        "outputId": "1099a76f-0b8c-4ad9-b147-2a2f146d87e2"
      },
      "source": [
        "bb.shape"
      ],
      "execution_count": null,
      "outputs": [
        {
          "data": {
            "text/plain": [
              "(136279, 27823)"
            ]
          },
          "execution_count": 84,
          "metadata": {},
          "output_type": "execute_result"
        }
      ]
    },
    {
      "cell_type": "markdown",
      "metadata": {
        "id": "OQQBjjoRvbM_"
      },
      "source": [
        "##**Algorithms Before Sampling**"
      ]
    },
    {
      "cell_type": "markdown",
      "metadata": {
        "id": "oip6GpELuM6F"
      },
      "source": [
        "###Logistic Regression"
      ]
    },
    {
      "cell_type": "code",
      "metadata": {
        "colab": {
          "base_uri": "https://localhost:8080/"
        },
        "id": "FtkP_17vuTCi",
        "outputId": "6d67826a-010c-4cc9-feba-d1bf98bc94b5"
      },
      "source": [
        "ll = LogisticRegression(random_state=69)\n",
        "ll.fit(Xtr, Ytr)\n",
        "pred = ll.predict(Xte)\n",
        "print(classification_report(Yte, pred, target_names=encoder.classes_))"
      ],
      "execution_count": null,
      "outputs": [
        {
          "name": "stdout",
          "output_type": "stream",
          "text": [
            "                 precision    recall  f1-score   support\n",
            "\n",
            " arts & culture       0.57      0.44      0.49       643\n",
            "       business       0.52      0.47      0.49      1071\n",
            "         comedy       0.54      0.44      0.49       810\n",
            "          crime       0.57      0.48      0.52       537\n",
            "      education       0.50      0.36      0.42       356\n",
            "  entertainment       0.63      0.70      0.66      2473\n",
            "    environment       0.56      0.47      0.51       669\n",
            "   food & drink       0.74      0.76      0.75      1419\n",
            " healthy living       0.70      0.79      0.74      4543\n",
            "  home & living       0.78      0.74      0.76       831\n",
            "  marriage life       0.83      0.79      0.81      1423\n",
            "          media       0.50      0.39      0.44       406\n",
            "minority voices       0.61      0.57      0.59      2117\n",
            "          money       0.52      0.39      0.45       344\n",
            "        parents       0.67      0.70      0.69      2376\n",
            "       politics       0.72      0.80      0.76      5675\n",
            "       religion       0.59      0.44      0.50       363\n",
            "        science       0.56      0.38      0.46       350\n",
            "         sports       0.72      0.66      0.69       828\n",
            " style & beauty       0.81      0.81      0.81      2118\n",
            "           tech       0.63      0.52      0.57       485\n",
            "         travel       0.76      0.76      0.76      1897\n",
            "     weird news       0.40      0.31      0.34       360\n",
            "          women       0.38      0.31      0.34       577\n",
            "     world news       0.66      0.64      0.65      1399\n",
            "\n",
            "       accuracy                           0.68     34070\n",
            "      macro avg       0.62      0.56      0.59     34070\n",
            "   weighted avg       0.67      0.68      0.67     34070\n",
            "\n"
          ]
        },
        {
          "name": "stderr",
          "output_type": "stream",
          "text": [
            "/usr/local/lib/python3.7/dist-packages/sklearn/linear_model/_logistic.py:818: ConvergenceWarning: lbfgs failed to converge (status=1):\n",
            "STOP: TOTAL NO. of ITERATIONS REACHED LIMIT.\n",
            "\n",
            "Increase the number of iterations (max_iter) or scale the data as shown in:\n",
            "    https://scikit-learn.org/stable/modules/preprocessing.html\n",
            "Please also refer to the documentation for alternative solver options:\n",
            "    https://scikit-learn.org/stable/modules/linear_model.html#logistic-regression\n",
            "  extra_warning_msg=_LOGISTIC_SOLVER_CONVERGENCE_MSG,\n"
          ]
        }
      ]
    },
    {
      "cell_type": "markdown",
      "metadata": {
        "id": "YDWOUcWuPpKd"
      },
      "source": [
        "### Decision Tree"
      ]
    },
    {
      "cell_type": "code",
      "metadata": {
        "colab": {
          "base_uri": "https://localhost:8080/"
        },
        "id": "8g57ZA4uNhgJ",
        "outputId": "b9c9780c-582e-4127-d645-d75f7dbe6ba6"
      },
      "source": [
        "dt = DecisionTreeClassifier(criterion='entropy')\n",
        "dt.fit(Xtr, Ytr)\n",
        "pred = dt.predict(Xte)\n",
        "print(classification_report(Yte, pred, target_names=encoder.classes_))"
      ],
      "execution_count": null,
      "outputs": [
        {
          "name": "stdout",
          "output_type": "stream",
          "text": [
            "                 precision    recall  f1-score   support\n",
            "\n",
            " arts & culture       0.35      0.29      0.31       643\n",
            "       business       0.31      0.29      0.30      1071\n",
            "         comedy       0.40      0.32      0.35       810\n",
            "          crime       0.35      0.29      0.32       537\n",
            "      education       0.31      0.27      0.29       356\n",
            "  entertainment       0.42      0.49      0.45      2473\n",
            "    environment       0.34      0.27      0.30       669\n",
            "   food & drink       0.56      0.57      0.56      1419\n",
            " healthy living       0.53      0.63      0.58      4543\n",
            "  home & living       0.56      0.51      0.53       831\n",
            "  marriage life       0.74      0.69      0.71      1423\n",
            "          media       0.25      0.21      0.23       406\n",
            "minority voices       0.49      0.42      0.45      2117\n",
            "          money       0.27      0.18      0.22       344\n",
            "        parents       0.54      0.60      0.57      2376\n",
            "       politics       0.65      0.69      0.67      5675\n",
            "       religion       0.28      0.22      0.24       363\n",
            "        science       0.32      0.23      0.27       350\n",
            "         sports       0.49      0.45      0.47       828\n",
            " style & beauty       0.65      0.65      0.65      2118\n",
            "           tech       0.41      0.29      0.34       485\n",
            "         travel       0.52      0.52      0.52      1897\n",
            "     weird news       0.13      0.12      0.12       360\n",
            "          women       0.21      0.19      0.20       577\n",
            "     world news       0.46      0.41      0.43      1399\n",
            "\n",
            "       accuracy                           0.52     34070\n",
            "      macro avg       0.42      0.39      0.40     34070\n",
            "   weighted avg       0.51      0.52      0.51     34070\n",
            "\n"
          ]
        }
      ]
    },
    {
      "cell_type": "markdown",
      "metadata": {
        "id": "SXV2IrshQIIw"
      },
      "source": [
        "### Random Forest"
      ]
    },
    {
      "cell_type": "code",
      "metadata": {
        "colab": {
          "base_uri": "https://localhost:8080/"
        },
        "id": "q63fo7qpPxVB",
        "outputId": "482ba9db-3233-4b9a-ac8f-63661d752a7e"
      },
      "source": [
        "rf = RandomForestClassifier(n_estimators=40)\n",
        "rf.fit(Xtr, Ytr)\n",
        "pred = rf.predict(Xte)\n",
        "print(classification_report(Yte, pred, target_names=encoder.classes_))"
      ],
      "execution_count": null,
      "outputs": [
        {
          "name": "stdout",
          "output_type": "stream",
          "text": [
            "                 precision    recall  f1-score   support\n",
            "\n",
            " arts & culture       0.60      0.28      0.38       643\n",
            "       business       0.50      0.30      0.38      1071\n",
            "         comedy       0.68      0.32      0.44       810\n",
            "          crime       0.55      0.34      0.42       537\n",
            "      education       0.46      0.26      0.33       356\n",
            "  entertainment       0.52      0.65      0.58      2473\n",
            "    environment       0.56      0.23      0.33       669\n",
            "   food & drink       0.61      0.71      0.66      1419\n",
            " healthy living       0.55      0.82      0.66      4543\n",
            "  home & living       0.73      0.58      0.64       831\n",
            "  marriage life       0.81      0.76      0.78      1423\n",
            "          media       0.55      0.16      0.25       406\n",
            "minority voices       0.70      0.43      0.53      2117\n",
            "          money       0.57      0.12      0.19       344\n",
            "        parents       0.61      0.73      0.67      2376\n",
            "       politics       0.63      0.86      0.73      5675\n",
            "       religion       0.63      0.18      0.28       363\n",
            "        science       0.64      0.20      0.30       350\n",
            "         sports       0.67      0.55      0.61       828\n",
            " style & beauty       0.70      0.73      0.72      2118\n",
            "           tech       0.67      0.31      0.42       485\n",
            "         travel       0.70      0.62      0.65      1897\n",
            "     weird news       0.34      0.09      0.14       360\n",
            "          women       0.40      0.22      0.29       577\n",
            "     world news       0.67      0.42      0.52      1399\n",
            "\n",
            "       accuracy                           0.62     34070\n",
            "      macro avg       0.60      0.43      0.48     34070\n",
            "   weighted avg       0.62      0.62      0.59     34070\n",
            "\n"
          ]
        }
      ]
    },
    {
      "cell_type": "markdown",
      "metadata": {
        "id": "tyi0wTNjQOT7"
      },
      "source": [
        "### Multinomial NB"
      ]
    },
    {
      "cell_type": "code",
      "metadata": {
        "colab": {
          "base_uri": "https://localhost:8080/"
        },
        "id": "Nx219AtUQVow",
        "outputId": "4450ecba-f52d-4e1b-84cd-afa6072ba6ba"
      },
      "source": [
        "nb = MultinomialNB()\n",
        "nb.fit(Xtr, Ytr)\n",
        "pred = nb.predict(Xte)\n",
        "print(classification_report(Yte, pred, target_names=encoder.classes_))"
      ],
      "execution_count": null,
      "outputs": [
        {
          "name": "stdout",
          "output_type": "stream",
          "text": [
            "                 precision    recall  f1-score   support\n",
            "\n",
            " arts & culture       0.84      0.19      0.31       643\n",
            "       business       0.51      0.46      0.49      1071\n",
            "         comedy       0.73      0.22      0.34       810\n",
            "          crime       0.62      0.41      0.49       537\n",
            "      education       0.69      0.08      0.14       356\n",
            "  entertainment       0.57      0.76      0.65      2473\n",
            "    environment       0.66      0.32      0.43       669\n",
            "   food & drink       0.78      0.73      0.75      1419\n",
            " healthy living       0.61      0.87      0.72      4543\n",
            "  home & living       0.90      0.54      0.68       831\n",
            "  marriage life       0.83      0.69      0.76      1423\n",
            "          media       0.69      0.09      0.16       406\n",
            "minority voices       0.59      0.49      0.54      2117\n",
            "          money       0.70      0.06      0.11       344\n",
            "        parents       0.58      0.73      0.64      2376\n",
            "       politics       0.65      0.88      0.75      5675\n",
            "       religion       0.85      0.15      0.26       363\n",
            "        science       0.95      0.17      0.29       350\n",
            "         sports       0.80      0.63      0.70       828\n",
            " style & beauty       0.76      0.81      0.78      2118\n",
            "           tech       0.70      0.39      0.51       485\n",
            "         travel       0.67      0.79      0.72      1897\n",
            "     weird news       0.85      0.03      0.06       360\n",
            "          women       0.67      0.06      0.12       577\n",
            "     world news       0.74      0.59      0.66      1399\n",
            "\n",
            "       accuracy                           0.65     34070\n",
            "      macro avg       0.72      0.45      0.48     34070\n",
            "   weighted avg       0.68      0.65      0.62     34070\n",
            "\n"
          ]
        }
      ]
    },
    {
      "cell_type": "markdown",
      "metadata": {
        "id": "ojtuAe2sn4oe"
      },
      "source": [
        "### KNN"
      ]
    },
    {
      "cell_type": "code",
      "metadata": {
        "colab": {
          "base_uri": "https://localhost:8080/"
        },
        "id": "wU-z675on4AG",
        "outputId": "c4409f7d-4a3a-4b24-9000-7905b2134b86"
      },
      "source": [
        "knn = KNeighborsClassifier(n_neighbors=121)\n",
        "knn.fit(Xtr, Ytr)\n",
        "pred = knn.predict(Xte)\n",
        "print(classification_report(Yte, pred, target_names=encoder.classes_))"
      ],
      "execution_count": null,
      "outputs": [
        {
          "name": "stdout",
          "output_type": "stream",
          "text": [
            "                 precision    recall  f1-score   support\n",
            "\n",
            " arts & culture       0.33      0.06      0.10       643\n",
            "       business       0.49      0.08      0.14      1071\n",
            "         comedy       0.07      0.31      0.12       810\n",
            "          crime       0.50      0.07      0.12       537\n",
            "      education       0.51      0.06      0.11       356\n",
            "  entertainment       0.25      0.51      0.34      2473\n",
            "    environment       0.71      0.08      0.15       669\n",
            "   food & drink       0.13      0.77      0.23      1419\n",
            " healthy living       0.43      0.36      0.39      4543\n",
            "  home & living       0.69      0.27      0.39       831\n",
            "  marriage life       0.90      0.26      0.40      1423\n",
            "          media       0.58      0.07      0.13       406\n",
            "minority voices       0.37      0.20      0.26      2117\n",
            "          money       0.50      0.02      0.03       344\n",
            "        parents       0.57      0.24      0.34      2376\n",
            "       politics       0.60      0.62      0.61      5675\n",
            "       religion       0.59      0.10      0.17       363\n",
            "        science       0.48      0.03      0.05       350\n",
            "         sports       0.67      0.13      0.22       828\n",
            " style & beauty       0.74      0.40      0.52      2118\n",
            "           tech       0.62      0.17      0.26       485\n",
            "         travel       0.66      0.17      0.28      1897\n",
            "     weird news       0.10      0.05      0.07       360\n",
            "          women       0.09      0.28      0.14       577\n",
            "     world news       0.73      0.08      0.15      1399\n",
            "\n",
            "       accuracy                           0.33     34070\n",
            "      macro avg       0.49      0.22      0.23     34070\n",
            "   weighted avg       0.51      0.33      0.34     34070\n",
            "\n"
          ]
        }
      ]
    },
    {
      "cell_type": "markdown",
      "metadata": {
        "id": "VX-gTT3PvfXT"
      },
      "source": [
        "## **Algorithms After Sampling**"
      ]
    },
    {
      "cell_type": "code",
      "metadata": {
        "colab": {
          "base_uri": "https://localhost:8080/",
          "height": 247
        },
        "id": "xteGfwmmvhAT",
        "outputId": "07ef28b1-a75e-43cf-cb8b-376152c5bb7a"
      },
      "source": [
        "labels = list(set(Ytr))\n",
        "counts = []\n",
        "for label in labels:\n",
        "    counts.append(np.count_nonzero(Ytr == label))\n",
        "plt.pie(counts, labels=labels, autopct='%1.1f%%')\n",
        "plt.show()\n"
      ],
      "execution_count": null,
      "outputs": [
        {
          "output_type": "display_data",
          "data": {
            "image/png": "[encoded data removed]",
            "text/plain": [
              "<Figure size 432x288 with 1 Axes>"
            ]
          },
          "metadata": {}
        }
      ]
    },
    {
      "cell_type": "code",
      "metadata": {
        "colab": {
          "base_uri": "https://localhost:8080/",
          "height": 247
        },
        "id": "A3IPF06zvovu",
        "outputId": "2de54312-409b-48df-9c88-4c406650c196"
      },
      "source": [
        "sm = SMOTE(random_state=42)\n",
        "XtrS, YtrS = sm.fit_resample(Xtr, Ytr)\n",
        "labels = list(set(YtrS))\n",
        "counts = []\n",
        "for label in labels:\n",
        "    counts.append(np.count_nonzero(YtrS == label))\n",
        "plt.pie(counts, labels=labels, autopct='%1.1f%%')\n",
        "plt.show()"
      ],
      "execution_count": null,
      "outputs": [
        {
          "output_type": "display_data",
          "data": {
            "image/png": "[encoded data removed]",
            "text/plain": [
              "<Figure size 432x288 with 1 Axes>"
            ]
          },
          "metadata": {}
        }
      ]
    },
    {
      "cell_type": "markdown",
      "metadata": {
        "id": "NTl15MpJ2kP6"
      },
      "source": [
        "###Logistic Regression"
      ]
    },
    {
      "cell_type": "code",
      "metadata": {
        "colab": {
          "base_uri": "https://localhost:8080/"
        },
        "id": "3pWvUA38vx6j",
        "outputId": "aa0f7c60-a2b2-46e5-8f69-cc2c98246ece"
      },
      "source": [
        "ll2 = LogisticRegression(random_state=69)\n",
        "ll2.fit(XtrS, YtrS)\n",
        "pred = ll2.predict(Xte)\n",
        "print(classification_report(Yte, pred, target_names=encoder.classes_))"
      ],
      "execution_count": null,
      "outputs": [
        {
          "name": "stdout",
          "output_type": "stream",
          "text": [
            "                 precision    recall  f1-score   support\n",
            "\n",
            " arts & culture       0.48      0.46      0.47       643\n",
            "       business       0.45      0.49      0.47      1071\n",
            "         comedy       0.47      0.45      0.46       810\n",
            "          crime       0.50      0.51      0.50       537\n",
            "      education       0.38      0.37      0.37       356\n",
            "  entertainment       0.65      0.66      0.65      2473\n",
            "    environment       0.50      0.49      0.49       669\n",
            "   food & drink       0.75      0.74      0.75      1419\n",
            " healthy living       0.73      0.73      0.73      4543\n",
            "  home & living       0.69      0.72      0.70       831\n",
            "  marriage life       0.77      0.79      0.78      1423\n",
            "          media       0.38      0.45      0.41       406\n",
            "minority voices       0.59      0.57      0.58      2117\n",
            "          money       0.39      0.42      0.40       344\n",
            "        parents       0.68      0.68      0.68      2376\n",
            "       politics       0.75      0.72      0.74      5675\n",
            "       religion       0.45      0.46      0.46       363\n",
            "        science       0.44      0.44      0.44       350\n",
            "         sports       0.68      0.69      0.68       828\n",
            " style & beauty       0.80      0.80      0.80      2118\n",
            "           tech       0.52      0.54      0.53       485\n",
            "         travel       0.73      0.74      0.74      1897\n",
            "     weird news       0.33      0.28      0.30       360\n",
            "          women       0.33      0.36      0.34       577\n",
            "     world news       0.64      0.66      0.65      1399\n",
            "\n",
            "       accuracy                           0.66     34070\n",
            "      macro avg       0.56      0.57      0.57     34070\n",
            "   weighted avg       0.66      0.66      0.66     34070\n",
            "\n"
          ]
        },
        {
          "name": "stderr",
          "output_type": "stream",
          "text": [
            "/usr/local/lib/python3.7/dist-packages/sklearn/linear_model/_logistic.py:818: ConvergenceWarning: lbfgs failed to converge (status=1):\n",
            "STOP: TOTAL NO. of ITERATIONS REACHED LIMIT.\n",
            "\n",
            "Increase the number of iterations (max_iter) or scale the data as shown in:\n",
            "    https://scikit-learn.org/stable/modules/preprocessing.html\n",
            "Please also refer to the documentation for alternative solver options:\n",
            "    https://scikit-learn.org/stable/modules/linear_model.html#logistic-regression\n",
            "  extra_warning_msg=_LOGISTIC_SOLVER_CONVERGENCE_MSG,\n"
          ]
        }
      ]
    },
    {
      "cell_type": "markdown",
      "metadata": {
        "id": "ZR6PYSZn2mwj"
      },
      "source": [
        "### Decision Tree"
      ]
    },
    {
      "cell_type": "code",
      "metadata": {
        "colab": {
          "base_uri": "https://localhost:8080/"
        },
        "id": "IywGGsLl2oRM",
        "outputId": "cbd64f82-7262-4e11-cad7-082025b339fd"
      },
      "source": [
        "dt1 = DecisionTreeClassifier(criterion='entropy')\n",
        "dt1.fit(XtrS, YtrS)\n",
        "pred = dt1.predict(Xte)\n",
        "print(classification_report(Yte, pred, target_names=encoder.classes_))"
      ],
      "execution_count": null,
      "outputs": [
        {
          "name": "stdout",
          "output_type": "stream",
          "text": [
            "                 precision    recall  f1-score   support\n",
            "\n",
            " arts & culture       0.20      0.28      0.23       643\n",
            "       business       0.22      0.29      0.25      1071\n",
            "         comedy       0.25      0.32      0.28       810\n",
            "          crime       0.21      0.36      0.27       537\n",
            "      education       0.18      0.29      0.22       356\n",
            "  entertainment       0.40      0.30      0.35      2473\n",
            "    environment       0.24      0.29      0.26       669\n",
            "   food & drink       0.48      0.49      0.49      1419\n",
            " healthy living       0.57      0.40      0.47      4543\n",
            "  home & living       0.38      0.52      0.44       831\n",
            "  marriage life       0.61      0.67      0.64      1423\n",
            "          media       0.12      0.30      0.18       406\n",
            "minority voices       0.40      0.34      0.37      2117\n",
            "          money       0.11      0.21      0.15       344\n",
            "        parents       0.47      0.44      0.45      2376\n",
            "       politics       0.66      0.43      0.52      5675\n",
            "       religion       0.18      0.35      0.23       363\n",
            "        science       0.15      0.31      0.20       350\n",
            "         sports       0.31      0.42      0.36       828\n",
            " style & beauty       0.62      0.58      0.60      2118\n",
            "           tech       0.23      0.38      0.29       485\n",
            "         travel       0.46      0.39      0.42      1897\n",
            "     weird news       0.10      0.15      0.12       360\n",
            "          women       0.16      0.21      0.18       577\n",
            "     world news       0.36      0.38      0.37      1399\n",
            "\n",
            "       accuracy                           0.40     34070\n",
            "      macro avg       0.32      0.37      0.33     34070\n",
            "   weighted avg       0.45      0.40      0.42     34070\n",
            "\n"
          ]
        }
      ]
    },
    {
      "cell_type": "markdown",
      "metadata": {
        "id": "U_uoudbt2yFT"
      },
      "source": [
        "###Random Forest"
      ]
    },
    {
      "cell_type": "code",
      "metadata": {
        "colab": {
          "base_uri": "https://localhost:8080/"
        },
        "id": "iOKRH1nG20fF",
        "outputId": "bb168e61-27a5-4dab-f49b-99fb409bc2b9"
      },
      "source": [
        "rf1 = RandomForestClassifier(n_estimators=40)\n",
        "rf1.fit(XtrS, YtrS)\n",
        "pred = rf1.predict(Xte)\n",
        "print(classification_report(Yte, pred, target_names=encoder.classes_))"
      ],
      "execution_count": null,
      "outputs": [
        {
          "name": "stdout",
          "output_type": "stream",
          "text": [
            "                 precision    recall  f1-score   support\n",
            "\n",
            " arts & culture       0.35      0.36      0.35       643\n",
            "       business       0.35      0.37      0.36      1071\n",
            "         comedy       0.38      0.41      0.40       810\n",
            "          crime       0.29      0.56      0.38       537\n",
            "      education       0.27      0.47      0.35       356\n",
            "  entertainment       0.61      0.43      0.50      2473\n",
            "    environment       0.32      0.38      0.35       669\n",
            "   food & drink       0.57      0.64      0.61      1419\n",
            " healthy living       0.71      0.58      0.64      4543\n",
            "  home & living       0.48      0.67      0.56       831\n",
            "  marriage life       0.67      0.78      0.72      1423\n",
            "          media       0.22      0.47      0.30       406\n",
            "minority voices       0.57      0.44      0.50      2117\n",
            "          money       0.22      0.36      0.28       344\n",
            "        parents       0.57      0.67      0.62      2376\n",
            "       politics       0.81      0.56      0.66      5675\n",
            "       religion       0.28      0.45      0.34       363\n",
            "        science       0.26      0.41      0.32       350\n",
            "         sports       0.46      0.63      0.53       828\n",
            " style & beauty       0.72      0.70      0.71      2118\n",
            "           tech       0.32      0.53      0.40       485\n",
            "         travel       0.63      0.55      0.59      1897\n",
            "     weird news       0.14      0.12      0.13       360\n",
            "          women       0.24      0.29      0.26       577\n",
            "     world news       0.48      0.54      0.51      1399\n",
            "\n",
            "       accuracy                           0.54     34070\n",
            "      macro avg       0.44      0.49      0.45     34070\n",
            "   weighted avg       0.59      0.54      0.55     34070\n",
            "\n"
          ]
        }
      ]
    },
    {
      "cell_type": "markdown",
      "metadata": {
        "id": "1o42XNqE2o3L"
      },
      "source": [
        "###Multinomial NB"
      ]
    },
    {
      "cell_type": "code",
      "metadata": {
        "colab": {
          "base_uri": "https://localhost:8080/"
        },
        "id": "poThVwSS2rF1",
        "outputId": "9f8d3b0a-8a74-4609-cd02-758dec0af2c6"
      },
      "source": [
        "nb1 = MultinomialNB()\n",
        "nb1.fit(XtrS, YtrS)\n",
        "finalpred = nb1.predict(Xte)\n",
        "print(classification_report(Yte, finalpred, target_names=encoder.classes_))"
      ],
      "execution_count": null,
      "outputs": [
        {
          "output_type": "stream",
          "name": "stdout",
          "text": [
            "                 precision    recall  f1-score   support\n",
            "\n",
            " arts & culture       0.62      0.33      0.43       643\n",
            "       business       0.50      0.49      0.49      1071\n",
            "         comedy       0.58      0.39      0.47       810\n",
            "          crime       0.53      0.61      0.57       537\n",
            "      education       0.55      0.31      0.39       356\n",
            "  entertainment       0.62      0.73      0.67      2473\n",
            "    environment       0.59      0.45      0.51       669\n",
            "   food & drink       0.77      0.76      0.76      1419\n",
            " healthy living       0.67      0.84      0.75      4543\n",
            "  home & living       0.84      0.66      0.74       831\n",
            "  marriage life       0.82      0.72      0.77      1423\n",
            "          media       0.53      0.37      0.44       406\n",
            "minority voices       0.61      0.51      0.56      2117\n",
            "          money       0.60      0.32      0.42       344\n",
            "        parents       0.60      0.75      0.67      2376\n",
            "       politics       0.72      0.81      0.76      5675\n",
            "       religion       0.63      0.29      0.40       363\n",
            "        science       0.71      0.36      0.48       350\n",
            "         sports       0.75      0.68      0.71       828\n",
            " style & beauty       0.81      0.79      0.80      2118\n",
            "           tech       0.59      0.49      0.54       485\n",
            "         travel       0.69      0.79      0.73      1897\n",
            "     weird news       0.51      0.16      0.25       360\n",
            "          women       0.50      0.23      0.32       577\n",
            "     world news       0.71      0.64      0.67      1399\n",
            "\n",
            "       accuracy                           0.68     34070\n",
            "      macro avg       0.64      0.54      0.57     34070\n",
            "   weighted avg       0.67      0.68      0.67     34070\n",
            "\n"
          ]
        }
      ]
    },
    {
      "cell_type": "markdown",
      "metadata": {
        "id": "prsc9D6wxpaA"
      },
      "source": [
        "### KNN"
      ]
    },
    {
      "cell_type": "code",
      "metadata": {
        "colab": {
          "base_uri": "https://localhost:8080/"
        },
        "id": "ErnreA46xoo_",
        "outputId": "54e2463c-fb37-4cf6-e76c-9fedb2a60f6c"
      },
      "source": [
        "knn1 = KNeighborsClassifier(n_neighbors=121)\n",
        "knn1.fit(XtrS, YtrS)\n",
        "pred = knn1.predict(Xte)\n",
        "print(classification_report(Yte, pred, target_names=encoder.classes_))"
      ],
      "execution_count": null,
      "outputs": [
        {
          "name": "stdout",
          "output_type": "stream",
          "text": [
            "                 precision    recall  f1-score   support\n",
            "\n",
            " arts & culture       0.15      0.36      0.21       643\n",
            "       business       0.21      0.32      0.25      1071\n",
            "         comedy       0.18      0.43      0.26       810\n",
            "          crime       0.17      0.51      0.26       537\n",
            "      education       0.14      0.45      0.21       356\n",
            "  entertainment       0.56      0.32      0.41      2473\n",
            "    environment       0.23      0.42      0.30       669\n",
            "   food & drink       0.44      0.54      0.49      1419\n",
            " healthy living       0.81      0.13      0.22      4543\n",
            "  home & living       0.36      0.59      0.45       831\n",
            "  marriage life       0.63      0.58      0.60      1423\n",
            "          media       0.10      0.51      0.17       406\n",
            "minority voices       0.44      0.28      0.34      2117\n",
            "          money       0.12      0.44      0.19       344\n",
            "        parents       0.52      0.37      0.44      2376\n",
            "       politics       0.99      0.01      0.02      5675\n",
            "       religion       0.12      0.41      0.18       363\n",
            "        science       0.13      0.46      0.20       350\n",
            "         sports       0.35      0.54      0.42       828\n",
            " style & beauty       0.74      0.50      0.60      2118\n",
            "           tech       0.21      0.54      0.30       485\n",
            "         travel       0.56      0.37      0.45      1897\n",
            "     weird news       0.07      0.16      0.09       360\n",
            "          women       0.13      0.41      0.20       577\n",
            "     world news       0.37      0.47      0.41      1399\n",
            "\n",
            "       accuracy                           0.32     34070\n",
            "      macro avg       0.35      0.40      0.31     34070\n",
            "   weighted avg       0.56      0.32      0.31     34070\n",
            "\n"
          ]
        }
      ]
    },
    {
      "cell_type": "markdown",
      "source": [
        "## **Conclusion**"
      ],
      "metadata": {
        "id": "4YCfkgiYCUF2"
      }
    },
    {
      "cell_type": "markdown",
      "source": [
        "Multinomial Naive Bayes Algorithm has shown the best results on the sampled data. Logistic Regression has also shown similar result in unsampled Data. Either of them can be used."
      ],
      "metadata": {
        "id": "G17cmU8ZChOG"
      }
    },
    {
      "cell_type": "markdown",
      "metadata": {
        "id": "eOTAJSM-5YEe"
      },
      "source": [
        "## **ANVIL Server - Website Connection**"
      ]
    },
    {
      "cell_type": "code",
      "metadata": {
        "colab": {
          "base_uri": "https://localhost:8080/",
          "height": 406
        },
        "id": "7qge0VHM5z8F",
        "outputId": "f2253986-d6e6-4033-e3ab-d63c6c27d62b"
      },
      "source": [
        "!pip install anvil-uplink"
      ],
      "execution_count": null,
      "outputs": [
        {
          "output_type": "stream",
          "name": "stdout",
          "text": [
            "Collecting anvil-uplink\n",
            "  Downloading anvil_uplink-0.3.41-py2.py3-none-any.whl (64 kB)\n",
            "\u001b[?25l\r\u001b[K     |█████                           | 10 kB 25.1 MB/s eta 0:00:01\r\u001b[K     |██████████▏                     | 20 kB 26.9 MB/s eta 0:00:01\r\u001b[K     |███████████████▎                | 30 kB 12.6 MB/s eta 0:00:01\r\u001b[K     |████████████████████▎           | 40 kB 9.5 MB/s eta 0:00:01\r\u001b[K     |█████████████████████████▍      | 51 kB 5.1 MB/s eta 0:00:01\r\u001b[K     |██████████████████████████████▌ | 61 kB 5.6 MB/s eta 0:00:01\r\u001b[K     |████████████████████████████████| 64 kB 2.2 MB/s \n",
            "\u001b[?25hRequirement already satisfied: six in /usr/local/lib/python3.7/dist-packages (from anvil-uplink) (1.15.0)\n",
            "Collecting ws4py\n",
            "  Downloading ws4py-0.5.1.tar.gz (51 kB)\n",
            "\u001b[?25l\r\u001b[K     |██████▍                         | 10 kB 32.1 MB/s eta 0:00:01\r\u001b[K     |████████████▊                   | 20 kB 41.5 MB/s eta 0:00:01\r\u001b[K     |███████████████████▏            | 30 kB 51.4 MB/s eta 0:00:01\r\u001b[K     |█████████████████████████▌      | 40 kB 56.1 MB/s eta 0:00:01\r\u001b[K     |███████████████████████████████▉| 51 kB 61.1 MB/s eta 0:00:01\r\u001b[K     |████████████████████████████████| 51 kB 206 kB/s \n",
            "\u001b[?25hRequirement already satisfied: future in /usr/local/lib/python3.7/dist-packages (from anvil-uplink) (0.16.0)\n",
            "Collecting argparse\n",
            "  Downloading argparse-1.4.0-py2.py3-none-any.whl (23 kB)\n",
            "Building wheels for collected packages: ws4py\n",
            "  Building wheel for ws4py (setup.py) ... \u001b[?25l\u001b[?25hdone\n",
            "  Created wheel for ws4py: filename=ws4py-0.5.1-py3-none-any.whl size=45230 sha256=4e1758ecfb44f016b23ec5736b02d0a80492ea3325c2bebe2e5c75c8743e0b15\n",
            "  Stored in directory: /root/.cache/pip/wheels/29/ea/7d/3410aa0aa0e4402ead9a7a97ab2214804887e0f5c2b76f0c96\n",
            "Successfully built ws4py\n",
            "Installing collected packages: ws4py, argparse, anvil-uplink\n",
            "Successfully installed anvil-uplink-0.3.41 argparse-1.4.0 ws4py-0.5.1\n"
          ]
        },
        {
          "output_type": "display_data",
          "data": {
            "application/vnd.colab-display-data+json": {
              "pip_warning": {
                "packages": [
                  "argparse",
                  "google"
                ]
              }
            }
          },
          "metadata": {}
        }
      ]
    },
    {
      "cell_type": "code",
      "metadata": {
        "id": "yhqeqG_hQITK",
        "colab": {
          "base_uri": "https://localhost:8080/"
        },
        "outputId": "e8f0f772-14a1-4135-fab3-5716ed6212a5"
      },
      "source": [
        "import anvil.server\n",
        "\n",
        "anvil.server.connect(\"UOHB37X5GTJ6JHPILS7AT57R-3FQF74WFMUXN3YCX\")"
      ],
      "execution_count": null,
      "outputs": [
        {
          "output_type": "stream",
          "name": "stdout",
          "text": [
            "Connecting to wss://anvil.works/uplink\n",
            "Anvil websocket open\n",
            "Connected to \"Default environment\" as SERVER\n"
          ]
        }
      ]
    },
    {
      "cell_type": "code",
      "metadata": {
        "id": "qW8GHy9pQLJq"
      },
      "source": [
        "@anvil.server.callable\n",
        "def predict_news(article):\n",
        "  simple_test = [article]\n",
        "  simple_test_dtm = vectorizer.transform(simple_test)\n",
        "  \n",
        "  answer=encoder.inverse_transform(nb1.predict(simple_test_dtm.toarray()))\n",
        "  return answer"
      ],
      "execution_count": null,
      "outputs": []
    },
    {
      "cell_type": "code",
      "metadata": {
        "id": "fqLz3ZaaQMPy"
      },
      "source": [
        "anvil.server.wait_forever()"
      ],
      "execution_count": null,
      "outputs": []
    }
  ]
}